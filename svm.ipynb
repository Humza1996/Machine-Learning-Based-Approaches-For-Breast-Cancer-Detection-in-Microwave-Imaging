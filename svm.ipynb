{
 "cells": [
  {
   "cell_type": "code",
   "execution_count": 7,
   "metadata": {},
   "outputs": [],
   "source": [
    "import numpy as np\n",
    "import numpy as np\n",
    "import pickle\n",
    "import matplotlib.pyplot as plt\n",
    "from sklearn import datasets\n",
    "from sklearn import svm\n",
    "from sklearn.utils import shuffle\n",
    "from sklearn.metrics import accuracy_score"
   ]
  },
  {
   "cell_type": "code",
   "execution_count": 8,
   "metadata": {},
   "outputs": [],
   "source": [
    "class SVM:\n",
    "    \n",
    "    def __init__(self,lr=0.001,regulation_param=0.001,iterations=1000):\n",
    "    \n",
    "        self.lr=lr\n",
    "        self.lambbda=regulation_param\n",
    "        self.n=iterations\n",
    "        self.w=None\n",
    "        self.b=None\n",
    "    \n",
    "    def fit(self,X,y):\n",
    "        \n",
    "        y_train=np.where(y<=0,-1,1)\n",
    "        n_samples,n_features=np.shape(X)\n",
    "        self.w=np.zeros(n_features)\n",
    "        self.b=0\n",
    "        \n",
    "        for iter in range(self.n):\n",
    "            for i,x_i in enumerate(X):\n",
    "                condition=y_train[i]*(np.dot(x_i,self.w) - self.b)>=1\n",
    "                if condition:\n",
    "                    self.w=self.w-self.lr*(2*self.lambbda*self.w)\n",
    "                else:\n",
    "                    self.w=self.w-self.lr*(2*self.lambbda*self.w-(np.dot(x_i,y_train[i])))\n",
    "                    self.b= self.b- self.lr*(y_train[i])\n",
    "    def predict(self,X):\n",
    "        output= X @ self.w -self.b\n",
    "        return np.sign(output)\n",
    "                \n",
    "            "
   ]
  },
  {
   "cell_type": "code",
   "execution_count": 9,
   "metadata": {},
   "outputs": [],
   "source": [
    "inn=open(\"1000/test_data.pickle\",\"rb\")\n",
    "test_data=pickle.load(inn)\n",
    "inn=open(\"1000/train_data.pickle\",\"rb\")\n",
    "train_data=pickle.load(inn)\n",
    "inn=open(\"1000/test_labels.pickle\",\"rb\")\n",
    "test_labels=pickle.load(inn)\n",
    "inn=open(\"1000/train_labels.pickle\",\"rb\")\n",
    "train_labels=pickle.load(inn)\n",
    "\n",
    "for i in range(np.size(train_data,axis=0)):\n",
    "    train_data[i,:,:]=np.fft.ifft(train_data[i,:,:])\n",
    "\n",
    "for i in range(np.size(test_data,axis=0)):\n",
    "    test_data[i,:,:]=np.fft.ifft(test_data[i,:,:])\n",
    "    \n",
    "\n",
    "test_data=np.abs(test_data[:,5:40,:])\n",
    "train_data=np.abs(train_data[:,5:40,:])\n",
    "train_data=train_data/(np.max(train_data))\n",
    "test_data=test_data/(np.max(test_data))\n",
    "\n",
    "\n",
    "\n",
    "train_data = np.reshape(train_data, [np.size(train_data, axis=0),np.size(train_data,axis=1) * np.size(train_data,axis=2)])\n",
    "test_data = np.reshape(test_data, [np.size(test_data, axis=0), np.size(test_data,axis=1)*np.size(test_data,axis=2)])\n",
    "\n",
    "X, y =shuffle(train_data, train_labels)\n"
   ]
  },
  {
   "cell_type": "code",
   "execution_count": null,
   "metadata": {},
   "outputs": [],
   "source": [
    "clf = SVM(lr=0.001,regulation_param=1)\n",
    "clf.fit(X,y)\n",
    "sky=clf.predict(test_data)\n",
    "print(test_label)\n",
    "print(sky)"
   ]
  },
  {
   "cell_type": "code",
   "execution_count": null,
   "metadata": {},
   "outputs": [],
   "source": []
  }
 ],
 "metadata": {
  "kernelspec": {
   "display_name": "Python 3",
   "language": "python",
   "name": "python3"
  },
  "language_info": {
   "codemirror_mode": {
    "name": "ipython",
    "version": 3
   },
   "file_extension": ".py",
   "mimetype": "text/x-python",
   "name": "python",
   "nbconvert_exporter": "python",
   "pygments_lexer": "ipython3",
   "version": "3.7.6"
  }
 },
 "nbformat": 4,
 "nbformat_minor": 2
}
