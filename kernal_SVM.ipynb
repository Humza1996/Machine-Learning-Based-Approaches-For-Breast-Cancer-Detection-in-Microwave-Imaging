{
 "cells": [
  {
   "cell_type": "code",
   "execution_count": 178,
   "metadata": {},
   "outputs": [],
   "source": [
    "%matplotlib inline\n",
    "import numpy as np\n",
    "np.random.seed(2017)\n",
    "import matplotlib.pyplot as plt\n",
    "import pickle\n",
    "from sklearn import datasets\n",
    "#from sklearn import svm\n",
    "from sklearn.metrics import accuracy_score\n",
    "from sklearn.utils import shuffle\n"
   ]
  },
  {
   "cell_type": "code",
   "execution_count": 179,
   "metadata": {},
   "outputs": [],
   "source": [
    "class SVM():\n",
    "    def __init__(self,gamma=1,iterations=1000,lr=0.01,p=2):\n",
    "        self.gamma=1\n",
    "        self.iterations=iterations\n",
    "        self.lr=lr\n",
    "        self.w=None\n",
    "        self.b=0\n",
    "        self.p=p\n",
    "    def quad_kernal(self,X1,X2):\n",
    "        ans=pow(self.p,np.dot(X1,X2))\n",
    "        return ans\n",
    "    \n",
    "    def K_matrix(self,X,X1):\n",
    "        m,n=X.shape\n",
    "        i,j=X1.shape\n",
    "        K=np.zeros((n,n))\n",
    "        for i in range(n):\n",
    "            for j in range(n):\n",
    "                K[i,j]=self.quad_kernal(X[i],X1[j])\n",
    "        return K\n",
    "                \n",
    "    def fit(self,X,y):\n",
    "        m,n=X.shape\n",
    "        K=self.K_matrix(X,X)\n",
    "        self.w=np.zeros(n)\n",
    "        for iter in range(self.iterations):\n",
    "            for i,j in enumerate(K):\n",
    "                print(K.shape)\n",
    "                print(self.w.shape)\n",
    "                condition=y[i]*(np.dot(K[i,:],self.w)-self.b)>=1\n",
    "                if condition:\n",
    "                    self.w=self.w-self.lr*(2*self.gamma*self.w)\n",
    "                else:\n",
    "                    self.w=self.w-self.lr*(2*self.gamma*self.w-(np.dot(K[i,:],y[i])))\n",
    "                    self.b= self.b- self.lr*(y[i])\n",
    "    def predict(self,X,X1):\n",
    "        K=self.K_matrix(X,X1)\n",
    "        output= np.dot(K,self.w) -self.b\n",
    "        return np.sign(output)   \n",
    "        "
   ]
  },
  {
   "cell_type": "code",
   "execution_count": 188,
   "metadata": {},
   "outputs": [
    {
     "name": "stdout",
     "output_type": "stream",
     "text": [
      "(100, 2)\n"
     ]
    },
    {
     "data": {
      "image/png": "[encoded data removed]",
      "text/plain": [
       "<Figure size 432x288 with 1 Axes>"
      ]
     },
     "metadata": {
      "needs_background": "light"
     },
     "output_type": "display_data"
    }
   ],
   "source": [
    "X_train, y = make_circles(n_samples=100, shuffle=True, noise=None, random_state=None, factor=0.8)\n",
    "plt.scatter(X_train[:,0],X_train[:,1],c='red')\n",
    "print(X_train.shape)"
   ]
  },
  {
   "cell_type": "code",
   "execution_count": null,
   "metadata": {},
   "outputs": [],
   "source": [
    "Make SVM with kernel using such data"
   ]
  },
  {
   "cell_type": "code",
   "execution_count": null,
   "metadata": {},
   "outputs": [],
   "source": []
  },
  {
   "cell_type": "code",
   "execution_count": null,
   "metadata": {},
   "outputs": [],
   "source": []
  },
  {
   "cell_type": "code",
   "execution_count": null,
   "metadata": {},
   "outputs": [],
   "source": []
  },
  {
   "cell_type": "code",
   "execution_count": null,
   "metadata": {},
   "outputs": [],
   "source": [
    "inn=open(\"test_data.pickle\",\"rb\")\n",
    "test_data=pickle.load(inn)\n",
    "inn=open(\"train_data.pickle\",\"rb\")\n",
    "train_data=pickle.load(inn)\n",
    "inn=open(\"test_labels.pickle\",\"rb\")\n",
    "test_labels=pickle.load(inn)\n",
    "inn=open(\"train_labels.pickle\",\"rb\")\n",
    "train_labels=pickle.load(inn)\n",
    "\n",
    "for i in range(np.size(train_data,axis=0)):\n",
    "    train_data[i,:,:]=np.fft.ifft(train_data[i,:,:])\n",
    "\n",
    "for i in range(np.size(test_data,axis=0)):\n",
    "    test_data[i,:,:]=np.fft.ifft(test_data[i,:,:])\n",
    "    \n",
    "\n",
    "test_data=np.abs(test_data[:,5:40,:])\n",
    "train_data=np.abs(train_data[:,5:40,:])\n",
    "train_data=train_data/(np.max(train_data))\n",
    "test_data=test_data/(np.max(test_data))\n",
    "\n",
    "\n",
    "\n",
    "train_data = np.reshape(train_data, [np.size(train_data, axis=0),np.size(train_data,axis=1) * np.size(train_data,axis=2)])\n",
    "test_data = np.reshape(test_data, [np.size(test_data, axis=0), np.size(test_data,axis=1)*np.size(test_data,axis=2)])\n",
    "\n",
    "X, y =shuffle(train_data, train_labels)\n",
    "X_test, y_test =shuffle(test_data, test_labels)\n"
   ]
  }
 ],
 "metadata": {
  "kernelspec": {
   "display_name": "Python 3",
   "language": "python",
   "name": "python3"
  },
  "language_info": {
   "codemirror_mode": {
    "name": "ipython",
    "version": 3
   },
   "file_extension": ".py",
   "mimetype": "text/x-python",
   "name": "python",
   "nbconvert_exporter": "python",
   "pygments_lexer": "ipython3",
   "version": "3.7.6"
  }
 },
 "nbformat": 4,
 "nbformat_minor": 4
}
