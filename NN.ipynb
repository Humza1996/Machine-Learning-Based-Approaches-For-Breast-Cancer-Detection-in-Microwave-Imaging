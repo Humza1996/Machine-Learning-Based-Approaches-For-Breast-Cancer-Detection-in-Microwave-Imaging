{
 "cells": [
  {
   "cell_type": "code",
   "execution_count": 3,
   "metadata": {},
   "outputs": [
    {
     "name": "stdout",
     "output_type": "stream",
     "text": [
      "Train Data :  (806, 1001, 72)\n",
      "Train Label :  (806,)\n",
      "Test Data :  (202, 1001, 72)\n",
      "Test Label :  (202,)\n",
      "Train Data :  (806, 4248)\n",
      "Train Label :  (806,)\n",
      "Test Data :  (202, 4248)\n",
      "Test Label :  (202,)\n",
      "Model accuracy is:  99.5049504950495\n"
     ]
    }
   ],
   "source": [
    "import numpy as np\n",
    "from sklearn import svm\n",
    "from sklearn import preprocessing\n",
    "import pickle\n",
    "from sklearn.neural_network import MLPClassifier\n",
    "from sklearn.datasets import make_classification\n",
    "from sklearn.utils import shuffle\n",
    "from sklearn.linear_model import LogisticRegression\n",
    "from sklearn.metrics import accuracy_score\n",
    "\n",
    "inn=open(\"1000/test_data.pickle\",\"rb\")\n",
    "test_data=pickle.load(inn)\n",
    "inn=open(\"1000/train_data.pickle\",\"rb\")\n",
    "train_data=pickle.load(inn)\n",
    "inn=open(\"1000/test_labels.pickle\",\"rb\")\n",
    "test_labels=pickle.load(inn)\n",
    "inn=open(\"1000/train_labels.pickle\",\"rb\")\n",
    "train_labels=pickle.load(inn)\n",
    "\n",
    "print(\"Train Data : \",np.shape(train_data))\n",
    "print(\"Train Label : \",np.shape(train_labels))\n",
    "print(\"Test Data : \",np.shape(test_data))\n",
    "print(\"Test Label : \",np.shape(test_labels))\n",
    "\n",
    "#convert time domain to frequecy domain\n",
    "\n",
    "for i in range(np.size(train_data,axis=0)):\n",
    "    train_data[i,:,:]=np.fft.ifft(train_data[i,:,:])\n",
    "\n",
    "for i in range(np.size(test_data,axis=0)):\n",
    "    test_data[i,:,:]=np.fft.ifft(test_data[i,:,:])\n",
    "\n",
    "# Take the absolute of windowed signal\n",
    "\n",
    "test_data=np.abs(test_data[:,1:60,:])\n",
    "train_data=np.abs(train_data[:,1:60,:])\n",
    "train_data=train_data/(np.max(train_data))\n",
    "test_data=test_data/(np.max(test_data))\n",
    "\n",
    "\n",
    "\n",
    "train_data = np.reshape(train_data, [np.size(train_data, axis=0),np.size(train_data,axis=1) * np.size(train_data,axis=2)])\n",
    "test_data = np.reshape(test_data, [np.size(test_data, axis=0), np.size(test_data,axis=1)*np.size(test_data,axis=2)])\n",
    "\n",
    "train_data=preprocessing.normalize(train_data)\n",
    "test_data=preprocessing.normalize(test_data)\n",
    "\n",
    "print(\"Train Data : \",np.shape(train_data))\n",
    "print(\"Train Label : \",np.shape(train_labels))\n",
    "print(\"Test Data : \",np.shape(test_data))\n",
    "print(\"Test Label : \",np.shape(test_labels))\n",
    "train_data,train_labels =shuffle(train_data, train_labels)\n",
    "\n",
    "\n"
   ]
  },
  {
   "cell_type": "code",
   "execution_count": 9,
   "metadata": {},
   "outputs": [],
   "source": [
    "clf = MLPClassifier(hidden_layer_sizes=1000,random_state=1, max_iter=500).fit(train_data, train_labels)"
   ]
  },
  {
   "cell_type": "code",
   "execution_count": 10,
   "metadata": {},
   "outputs": [
    {
     "name": "stdout",
     "output_type": "stream",
     "text": [
      "[1 0 0 1 0 0 1 1 1 0 1 1 1 1 1 1 0 0 0 1 1 1 1 1 0 0 0 0 0 0 0 0 0 0 0 1 0\n",
      " 1 0 1 1 0 0 0 0 0 0 1 0 0 0 1 0 0 0 1 0 0 1 0 0 1 0 1 0 0 1 1 0 1 0 1 0 1\n",
      " 1 1 0 0 1 0 1 0 0 0 0 0 0 0 1 0 0 0 1 0 1 0 1 1 1 0 0 0 1 0 0 1 0 0 1 0 1\n",
      " 0 1 0 1 0 1 1 0 1 0 1 0 1 1 1 1 0 1 1 0 0 0 1 1 0 0 1 1 0 0 0 0 1 1 1 1 0\n",
      " 0 0 0 1 1 0 1 1 0 1 1 0 1 0 1 0 1 0 0 1 1 0 1 0 0 1 0 1 1 1 0 0 0 1 0 1 1\n",
      " 1 1 0 1 1 0 0 0 1 0 1 0 1 1 1 1 0]\n",
      "0.9108910891089109\n"
     ]
    }
   ],
   "source": [
    "a=clf.predict(test_data)\n",
    "print(a)\n",
    "Acc=accuracy_score(test_labels,a) \n",
    "print(Acc)\n"
   ]
  },
  {
   "cell_type": "code",
   "execution_count": null,
   "metadata": {},
   "outputs": [],
   "source": []
  }
 ],
 "metadata": {
  "kernelspec": {
   "display_name": "Python 3",
   "language": "python",
   "name": "python3"
  },
  "language_info": {
   "codemirror_mode": {
    "name": "ipython",
    "version": 3
   },
   "file_extension": ".py",
   "mimetype": "text/x-python",
   "name": "python",
   "nbconvert_exporter": "python",
   "pygments_lexer": "ipython3",
   "version": "3.7.6"
  }
 },
 "nbformat": 4,
 "nbformat_minor": 4
}
